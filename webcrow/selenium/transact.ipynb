{
 "cells": [
  {
   "cell_type": "code",
   "execution_count": 98,
   "metadata": {},
   "outputs": [],
   "source": [
    "from selenium import webdriver\n",
    "from selenium.webdriver.chrome.options import Options\n",
    "from selenium.webdriver.common.by import By\n",
    "from selenium.webdriver.support.select import Select\n",
    "from selenium.webdriver.common.keys import Keys\n",
    "from selenium.webdriver.common.alert import Alert\n",
    "from selenium.webdriver.support.ui import WebDriverWait\n",
    "from selenium.webdriver.support import expected_conditions as EC\n",
    "from selenium.common.exceptions import TimeoutException\n",
    "from selenium.webdriver.support.ui import Select\n",
    "\n",
    "import os\n",
    "import time\n",
    "import datetime\n",
    "import pandas as pd\n",
    "from selenium import webdriver\n",
    "from selenium.webdriver.chrome.options import Options\n",
    "from bs4 import BeautifulSoup\n",
    "#\n",
    "# Seleniumをあらゆる環境で起動させるオプション\n",
    "#\n",
    "options = Options()\n",
    "options.add_argument('--disable-gpu');\n",
    "options.add_argument('--disable-extensions');\n",
    "options.add_argument('--proxy-server=\"direct://\"');\n",
    "options.add_argument('--proxy-bypass-list=*');\n",
    "options.add_argument('--start-maximized');\n",
    "\n",
    "#環境情報色々\n",
    "DRIVER_PATH = '/Users/hayashiryuutarou/Desktop/study/webcrow/selenium/chromedriver'\n",
    "\n",
    "#各種Keyの読み込み\n",
    "import configparser\n",
    "#config取得\n",
    "config_ini = configparser.ConfigParser()\n",
    "config_ini.read('config.ini', encoding='utf-8')\n",
    "ACCOUNT = config_ini[\"SBI\"][\"ACCOUNT\"]\n",
    "PASSWORD = config_ini[\"SBI\"][\"PASSWORD\"]\n",
    "TRANSACTION_PASSWORD = config_ini[\"SBI\"][\"TRANSACTION_PASSWORD\"]\n",
    "name = config_ini[\"SBI\"][\"name\"]"
   ]
  },
  {
   "cell_type": "code",
   "execution_count": 2,
   "metadata": {},
   "outputs": [],
   "source": [
    "#ログイン関数\n",
    "def connect_sbi(ACCOUNT, PASSWORD, name,driver):\n",
    "    # SBI証券のトップ画面を開く\n",
    "    driver.get('https://www.sbisec.co.jp/ETGate')\n",
    "    \n",
    "    # ユーザーIDとパスワード\n",
    "    input_user_id = driver.find_element_by_name('user_id')\n",
    "    input_user_id.send_keys(ACCOUNT)\n",
    "    input_user_password = driver.find_element_by_name('user_password')\n",
    "    input_user_password.send_keys(PASSWORD)\n",
    "    \n",
    "    # ログインボタンをクリック\n",
    "    driver.find_element_by_name('ACT_login').click()\n",
    "    time.sleep(5)\n",
    "\n",
    "    return driver"
   ]
  },
  {
   "cell_type": "code",
   "execution_count": 3,
   "metadata": {},
   "outputs": [],
   "source": [
    "def start():\n",
    "    option = Options()\n",
    "    option.add_argument('--headless') \n",
    "    #driverの設定\n",
    "    driver = webdriver.Chrome(executable_path=DRIVER_PATH, chrome_options=options)\n",
    "    #サイトログイン\n",
    "    driver = connect_sbi(ACCOUNT, PASSWORD, name,driver)\n",
    "    return driver"
   ]
  },
  {
   "cell_type": "code",
   "execution_count": 4,
   "metadata": {},
   "outputs": [
    {
     "name": "stderr",
     "output_type": "stream",
     "text": [
      "/Users/hayashiryuutarou/opt/anaconda3/lib/python3.7/site-packages/ipykernel_launcher.py:5: DeprecationWarning: use options instead of chrome_options\n",
      "  \"\"\"\n"
     ]
    }
   ],
   "source": [
    "driver = start()"
   ]
  },
  {
   "cell_type": "code",
   "execution_count": 105,
   "metadata": {},
   "outputs": [],
   "source": [
    "def transact(driver,params):\n",
    "    driver.find_element_by_xpath('//div[@id=\"link02M\"]/ul/li[2]').click()\n",
    "    #取引タイプ選択\n",
    "    driver.find_element_by_id(params[\"取引\"]).click()\n",
    "    #銘柄コード\n",
    "    driver.find_element_by_name(\"stock_sec_code\").send_keys(params[\"銘柄コード\"])\n",
    "    #市場選択は不要か？\n",
    "    \n",
    "    #株数\n",
    "    driver.find_element_by_name(\"input_quantity\").send_keys(params[\"株数\"])\n",
    "    #取引方法\n",
    "    transact_elem = driver.find_element_by_id(params[\"取引方法\"])\n",
    "    transact_elem.find_element_by_name(\"in_sasinari_kbn\").click()\n",
    "    #取引追加情報(価格とか)\n",
    "    if params[\"取引方法\"] == \"gsn0\": #指値\n",
    "        #条件\n",
    "        select_elem = Select(transact_elem.find_element_by_name(\"sasine_condition\"))\n",
    "        select_elem.select_by_value(params[\"取引詳細\"][\"条件\"])\n",
    "        #価格\n",
    "        transact_elem.find_element_by_name(\"input_price\").send_keys(params[\"取引詳細\"][\"価格\"])\n",
    "    if params[\"取引方法\"] == \"gsn1\": #成行\n",
    "        #条件\n",
    "        select_elem = Select(transact_elem.find_element_by_name(\"nariyuki_condition\"))\n",
    "        select_elem.select_by_value(params[\"取引詳細\"][\"条件\"])\n",
    "    #期間\n",
    "    #預かり区分\n",
    "    driver.find_element_by_name(\"hitokutei_trade_kbn\").click()\n",
    "    #信用取引区分\n",
    "    \n",
    "    #取引パスワードを入力\n",
    "    driver.find_element_by_name(\"trade_pwd\").send_keys(TRANSACTION_PASSWORD)\n",
    "    #注文確認画面をスキップ\n",
    "    driver.find_element_by_name(\"skip_estimate\").click()\n",
    "    #注文発注\n",
    "    driver.find_element_by_id(\"botton2\").click()"
   ]
  },
  {
   "cell_type": "code",
   "execution_count": 106,
   "metadata": {},
   "outputs": [],
   "source": [
    "#取引詳細のサンプル\n",
    "#指値\n",
    "transact_prams = {\n",
    "    \"条件\":\" \",\n",
    "    \"価格\":150\n",
    "}\n",
    "\n",
    "params={\n",
    "    \"取引\":\"genU\",  #現物買:genK,現物売:genU,信用新規買:shinK,信用新規売:shinU\n",
    "    \"銘柄コード\":1400,\n",
    "    \"株数\":100,\n",
    "    \"取引方法\":\"gsn0\", #指値：gsn0,成行:gsn1,逆指値:gsn2 ※逆指値は未実装\n",
    "    \"取引詳細\":transact_prams,\n",
    "    \"期間\":1,\n",
    "    \"期間詳細\":\"20/05/27\",\n",
    "    \"預かり区分\":\"hitokutei_trade_kbn\", #一般預かり：hitokutei_trade_kbn,特定預かり:\n",
    "    \"信用取引区分\":\"制度\"\n",
    "}\n",
    "transact(driver,params)"
   ]
  }
 ],
 "metadata": {
  "kernelspec": {
   "display_name": "Python 3",
   "language": "python",
   "name": "python3"
  },
  "language_info": {
   "codemirror_mode": {
    "name": "ipython",
    "version": 3
   },
   "file_extension": ".py",
   "mimetype": "text/x-python",
   "name": "python",
   "nbconvert_exporter": "python",
   "pygments_lexer": "ipython3",
   "version": "3.7.6"
  }
 },
 "nbformat": 4,
 "nbformat_minor": 4
}
