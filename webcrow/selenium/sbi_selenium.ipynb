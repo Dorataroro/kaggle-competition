{
 "cells": [
  {
   "cell_type": "code",
   "execution_count": 1,
   "metadata": {},
   "outputs": [],
   "source": [
    "from selenium import webdriver\n",
    "from selenium.webdriver.chrome.options import Options\n",
    "from selenium.webdriver.common.by import By\n",
    "from selenium.webdriver.support.select import Select\n",
    "from selenium.webdriver.common.keys import Keys\n",
    "from selenium.webdriver.common.alert import Alert\n",
    "from selenium.webdriver.support.ui import WebDriverWait\n",
    "from selenium.webdriver.support import expected_conditions as EC\n",
    "from selenium.common.exceptions import TimeoutException\n",
    "\n",
    "import os\n",
    "import time\n",
    "import datetime\n",
    "import pandas as pd\n",
    "from selenium import webdriver\n",
    "from selenium.webdriver.chrome.options import Options\n",
    "from bs4 import BeautifulSoup\n",
    "#\n",
    "# Seleniumをあらゆる環境で起動させるオプション\n",
    "#\n",
    "options = Options()\n",
    "options.add_argument('--disable-gpu');\n",
    "options.add_argument('--disable-extensions');\n",
    "options.add_argument('--proxy-server=\"direct://\"');\n",
    "options.add_argument('--proxy-bypass-list=*');\n",
    "options.add_argument('--start-maximized');\n",
    "\n",
    "#環境情報色々\n",
    "DRIVER_PATH = '/Users/hayashiryuutarou/Desktop/study/webcrow/selenium/chromedriver'\n",
    "\n",
    "#各種Keyの読み込み\n",
    "import configparser\n",
    "#config取得\n",
    "config_ini = configparser.ConfigParser()\n",
    "config_ini.read('config.ini', encoding='utf-8')\n",
    "ACCOUNT = config_ini[\"SBI\"][\"ACCOUNT\"]\n",
    "PASSWORD = config_ini[\"SBI\"][\"PASSWORD\"]\n",
    "name = config_ini[\"SBI\"][\"name\"]"
   ]
  },
  {
   "cell_type": "code",
   "execution_count": 2,
   "metadata": {},
   "outputs": [],
   "source": [
    "#対象のデータ選定\n",
    "import pandas as pd\n",
    "stock_list = pd.read_csv(\"../../stock/stocklist.csv\")\n",
    "#とりあえず東証JQGを対象とすることにする\n",
    "targets = stock_list.loc[stock_list[\"市場名\"]==\"東証JQG\"]\n",
    "#JQG = stock_list"
   ]
  },
  {
   "cell_type": "code",
   "execution_count": 3,
   "metadata": {},
   "outputs": [],
   "source": [
    "#ログイン関数\n",
    "def connect_sbi(ACCOUNT, PASSWORD, name,driver):\n",
    "    # SBI証券のトップ画面を開く\n",
    "    driver.get('https://www.sbisec.co.jp/ETGate')\n",
    "\n",
    "    # ユーザーIDとパスワード\n",
    "    input_user_id = driver.find_element_by_name('user_id')\n",
    "    input_user_id.send_keys(ACCOUNT)\n",
    "    input_user_password = driver.find_element_by_name('user_password')\n",
    "    input_user_password.send_keys(PASSWORD)\n",
    "    \n",
    "    # ログインボタンをクリック\n",
    "    driver.find_element_by_name('ACT_login').click()\n",
    "    time.sleep(5)\n",
    "\n",
    "    return driver"
   ]
  },
  {
   "cell_type": "code",
   "execution_count": 4,
   "metadata": {},
   "outputs": [],
   "source": [
    "#国内株式全体情報取得関数\n",
    "def get_stockinfo(driver,stock_code):\n",
    "    # 検索ボックスに対象のコードを入力\n",
    "\n",
    "    driver.find_element_by_name('i_stock_sec').send_keys(stock_code)\n",
    "    #検索ボタンを押下\n",
    "    driver.execute_script(\"avaScript:return stockcheck();\")\n",
    "    time.sleep(2)\n",
    "    #htmlを取得\n",
    "    html = driver.page_source.encode('utf-8')\n",
    "    soup = BeautifulSoup(html, \"html.parser\")\n",
    "\n",
    "    return soup"
   ]
  },
  {
   "cell_type": "code",
   "execution_count": 5,
   "metadata": {},
   "outputs": [],
   "source": [
    "def cl(text):\n",
    "    text = text.split(u'\\xa0')[0]\n",
    "    if len(text)==0 or text.find(\"--\") >=0: \n",
    "        text = 0\n",
    "    else:\n",
    "        text = float(text.replace(\",\",\"\"))\n",
    "    return text"
   ]
  },
  {
   "cell_type": "code",
   "execution_count": 6,
   "metadata": {},
   "outputs": [],
   "source": [
    "def cl2(text):\n",
    "    text = text.split(u'\\xa0')[0]\n",
    "    if len(text)==0 or text.find(\"--\") >=0: \n",
    "        text = 0\n",
    "    else:\n",
    "        text = float(text.replace(\",\",\"\"))\n",
    "    return text"
   ]
  },
  {
   "cell_type": "code",
   "execution_count": 7,
   "metadata": {},
   "outputs": [],
   "source": [
    "def cl3(text):\n",
    "    text = text.split(u'\\xa0')[1]\n",
    "    if len(text)==0 or text.find(\"--\") >=0: \n",
    "        text = 0\n",
    "    else:\n",
    "        text = float(text.replace(\",\",\"\").split(\"↑\")[0].split(\"↓\")[0].replace(\",\",\"\"))\n",
    "    return text"
   ]
  },
  {
   "cell_type": "code",
   "execution_count": 8,
   "metadata": {},
   "outputs": [],
   "source": [
    "#詳細情報の取得\n",
    "def get_currentprice(soup,code):\n",
    "    #現在価格\n",
    "    found1 = soup.find('div', class_='kabuNowStatus')\n",
    "    current_price = cl3(found1.find(\"td\",id=\"MTB0_0\").text)\n",
    "    #始値,前日終値,高値,出来高,安値,売買代金\n",
    "    found2 = soup.find('table',class_='tbl690')\n",
    "    open_price = cl(found2.find('td',id='MTB0_2').text)\n",
    "    yesterday_price = cl(found2.find(\"td\",id=\"MTB0_3\").text)\n",
    "    high_price = cl(found2.find(\"td\",id=\"MTB0_4\").text)\n",
    "    volume = cl(found2.find(\"td\",id=\"MTB0_5\").text)\n",
    "    low_price = cl(found2.find(\"td\",id=\"MTB0_6\").text)\n",
    "    trading_volume = cl(found2.find(\"td\",id=\"MTB0_7\").text)\n",
    "    \n",
    "    #板情報\n",
    "    found3 = soup.find('div',class_='itaTbl02')\n",
    "    over = cl2(found3.find(\"td\",id=\"MTB0_11\").text)\n",
    "    under = cl2(found3.find(\"td\",id=\"MTB0_76\").text)\n",
    "    sellside_price = cl(found3.find(\"td\",id=\"MTB0_42\").text) \n",
    "    buyside_price = cl(found3.find(\"td\",id=\"MTB0_45\").text)\n",
    "    sellside_atm = 0\n",
    "    buyside_atm = 0\n",
    "\n",
    "    #売り気配 ※なぜかギリギリの価格の株数が取得できない\n",
    "    sellsidedict = {\n",
    "        cl(found3.find(\"td\",id=\"MTB0_15\").text) :cl(found3.find(\"td\",id=\"MTB0_14\").text),\n",
    "        cl(found3.find(\"td\",id=\"MTB0_18\").text) :cl(found3.find(\"td\",id=\"MTB0_17\").text),\n",
    "        cl(found3.find(\"td\",id=\"MTB0_21\").text) :cl(found3.find(\"td\",id=\"MTB0_20\").text), \n",
    "        cl(found3.find(\"td\",id=\"MTB0_24\").text) :cl(found3.find(\"td\",id=\"MTB0_23\").text),\n",
    "        cl(found3.find(\"td\",id=\"MTB0_27\").text) :cl(found3.find(\"td\",id=\"MTB0_26\").text), \n",
    "        cl(found3.find(\"td\",id=\"MTB0_30\").text) :cl(found3.find(\"td\",id=\"MTB0_29\").text),\n",
    "        cl(found3.find(\"td\",id=\"MTB0_33\").text) :cl(found3.find(\"td\",id=\"MTB0_32\").text), \n",
    "        cl(found3.find(\"td\",id=\"MTB0_36\").text) :cl(found3.find(\"td\",id=\"MTB0_35\").text),\n",
    "        cl(found3.find(\"td\",id=\"MTB0_39\").text) :cl(found3.find(\"td\",id=\"MTB0_38\").text)\n",
    "#        float(found3.find(\"td\",id=\"MTB0_42\").text.split(u'\\xa0')[0].replace(\",\",\"\")) :float(found3.find(\"td\",id=\"MTB0_43\").text.split(u'\\xa0')[0].replace(\",\",\"\"))\n",
    "    }\n",
    "    #買い気配\n",
    "    buysidedict = {\n",
    " #       float(found3.find(\"td\",id=\"MTB0_45\").text.split(u'\\xa0')[0].replace(\",\",\"\")) :float(found3.find(\"td\",id=\"MTB0_46\").text.split(u'\\xa0')[0].replace(\",\",\"\")), \n",
    "        cl(found3.find(\"td\",id=\"MTB0_48\").text) :cl(found3.find(\"td\",id=\"MTB0_49\").text), \n",
    "        cl(found3.find(\"td\",id=\"MTB0_51\").text) :cl(found3.find(\"td\",id=\"MTB0_52\").text), \n",
    "        cl(found3.find(\"td\",id=\"MTB0_54\").text) :cl(found3.find(\"td\",id=\"MTB0_55\").text), \n",
    "        cl(found3.find(\"td\",id=\"MTB0_57\").text) :cl(found3.find(\"td\",id=\"MTB0_58\").text), \n",
    "        cl(found3.find(\"td\",id=\"MTB0_60\").text) :cl(found3.find(\"td\",id=\"MTB0_61\").text), \n",
    "        cl(found3.find(\"td\",id=\"MTB0_63\").text) :cl(found3.find(\"td\",id=\"MTB0_64\").text), \n",
    "        cl(found3.find(\"td\",id=\"MTB0_66\").text) :cl(found3.find(\"td\",id=\"MTB0_67\").text), \n",
    "        cl(found3.find(\"td\",id=\"MTB0_69\").text) :cl(found3.find(\"td\",id=\"MTB0_70\").text), \n",
    "        cl(found3.find(\"td\",id=\"MTB0_72\").text) :cl(found3.find(\"td\",id=\"MTB0_73\").text),\n",
    "    }\n",
    "    #計算\n",
    "    for k,v in sellsidedict.items():\n",
    "        sellside_atm = sellside_atm + (current_price - k)*v\n",
    "    \n",
    "    for k,v in buysidedict.items():\n",
    "        buyside_atm = buyside_atm + (current_price - k)*v\n",
    "    \n",
    "    #過去情報\n",
    "    #found5 = soup.find('div',class_='mgt5')\n",
    "    #yearly_high_price = int(found5.find('span',class_=\"fm01\").text.split(u'\\xa0')[0].replace(\",\",\"\"))\n",
    "    \n",
    "    #投資指標情報\n",
    "    #per = found2.find(\"td\",id=\"MTB0_79\").text\n",
    "    \n",
    "    #まとめたデータ\n",
    "    now = datetime.datetime.now()\n",
    "    current_time = str(now.strftime('%Y%m%d %H:%M:%S'))\n",
    "    columns1 = [\"銘柄コード\" ,\"現在値\",\"始値\" ,\"前日終値\",\"高値\",\"出来高\",\"安値\",\"売買代金\",\"over\",\"under\",\"sellside_price\",\"buyside_price\",\"板上売気配\",\"板上買気配\",\"現在時刻\"]\n",
    "    data1 = [[code,current_price,open_price,yesterday_price,high_price,volume,low_price,trading_volume,over,under,sellside_price,buyside_price,sellside_atm,buyside_atm,current_time]]\n",
    "    stock_data = pd.DataFrame(data = data1,columns=columns1)\n",
    "    return stock_data"
   ]
  },
  {
   "cell_type": "code",
   "execution_count": 9,
   "metadata": {},
   "outputs": [],
   "source": [
    "def start():\n",
    "    option = Options()\n",
    "    option.add_argument('--headless') \n",
    "    #driverの設定\n",
    "    driver = webdriver.Chrome(executable_path=DRIVER_PATH, chrome_options=options)\n",
    "    #サイトログイン\n",
    "    driver = connect_sbi(ACCOUNT, PASSWORD, name,driver)\n",
    "    return driver"
   ]
  },
  {
   "cell_type": "code",
   "execution_count": 10,
   "metadata": {},
   "outputs": [
    {
     "name": "stderr",
     "output_type": "stream",
     "text": [
      "/Users/hayashiryuutarou/opt/anaconda3/lib/python3.7/site-packages/ipykernel_launcher.py:5: DeprecationWarning: use options instead of chrome_options\n",
      "  \"\"\"\n"
     ]
    },
    {
     "ename": "SessionNotCreatedException",
     "evalue": "Message: session not created: This version of ChromeDriver only supports Chrome version 83\n",
     "output_type": "error",
     "traceback": [
      "\u001b[0;31m---------------------------------------------------------------------------\u001b[0m",
      "\u001b[0;31mSessionNotCreatedException\u001b[0m                Traceback (most recent call last)",
      "\u001b[0;32m<ipython-input-10-590c2b7b2683>\u001b[0m in \u001b[0;36m<module>\u001b[0;34m\u001b[0m\n\u001b[0;32m----> 1\u001b[0;31m \u001b[0mdriver\u001b[0m \u001b[0;34m=\u001b[0m \u001b[0mstart\u001b[0m\u001b[0;34m(\u001b[0m\u001b[0;34m)\u001b[0m\u001b[0;34m\u001b[0m\u001b[0;34m\u001b[0m\u001b[0m\n\u001b[0m",
      "\u001b[0;32m<ipython-input-9-c51888263a24>\u001b[0m in \u001b[0;36mstart\u001b[0;34m()\u001b[0m\n\u001b[1;32m      3\u001b[0m     \u001b[0moption\u001b[0m\u001b[0;34m.\u001b[0m\u001b[0madd_argument\u001b[0m\u001b[0;34m(\u001b[0m\u001b[0;34m'--headless'\u001b[0m\u001b[0;34m)\u001b[0m\u001b[0;34m\u001b[0m\u001b[0;34m\u001b[0m\u001b[0m\n\u001b[1;32m      4\u001b[0m     \u001b[0;31m#driverの設定\u001b[0m\u001b[0;34m\u001b[0m\u001b[0;34m\u001b[0m\u001b[0;34m\u001b[0m\u001b[0m\n\u001b[0;32m----> 5\u001b[0;31m     \u001b[0mdriver\u001b[0m \u001b[0;34m=\u001b[0m \u001b[0mwebdriver\u001b[0m\u001b[0;34m.\u001b[0m\u001b[0mChrome\u001b[0m\u001b[0;34m(\u001b[0m\u001b[0mexecutable_path\u001b[0m\u001b[0;34m=\u001b[0m\u001b[0mDRIVER_PATH\u001b[0m\u001b[0;34m,\u001b[0m \u001b[0mchrome_options\u001b[0m\u001b[0;34m=\u001b[0m\u001b[0moptions\u001b[0m\u001b[0;34m)\u001b[0m\u001b[0;34m\u001b[0m\u001b[0;34m\u001b[0m\u001b[0m\n\u001b[0m\u001b[1;32m      6\u001b[0m     \u001b[0;31m#サイトログイン\u001b[0m\u001b[0;34m\u001b[0m\u001b[0;34m\u001b[0m\u001b[0;34m\u001b[0m\u001b[0m\n\u001b[1;32m      7\u001b[0m     \u001b[0mdriver\u001b[0m \u001b[0;34m=\u001b[0m \u001b[0mconnect_sbi\u001b[0m\u001b[0;34m(\u001b[0m\u001b[0mACCOUNT\u001b[0m\u001b[0;34m,\u001b[0m \u001b[0mPASSWORD\u001b[0m\u001b[0;34m,\u001b[0m \u001b[0mname\u001b[0m\u001b[0;34m,\u001b[0m\u001b[0mdriver\u001b[0m\u001b[0;34m)\u001b[0m\u001b[0;34m\u001b[0m\u001b[0;34m\u001b[0m\u001b[0m\n",
      "\u001b[0;32m~/opt/anaconda3/lib/python3.7/site-packages/selenium/webdriver/chrome/webdriver.py\u001b[0m in \u001b[0;36m__init__\u001b[0;34m(self, executable_path, port, options, service_args, desired_capabilities, service_log_path, chrome_options, keep_alive)\u001b[0m\n\u001b[1;32m     79\u001b[0m                     \u001b[0mremote_server_addr\u001b[0m\u001b[0;34m=\u001b[0m\u001b[0mself\u001b[0m\u001b[0;34m.\u001b[0m\u001b[0mservice\u001b[0m\u001b[0;34m.\u001b[0m\u001b[0mservice_url\u001b[0m\u001b[0;34m,\u001b[0m\u001b[0;34m\u001b[0m\u001b[0;34m\u001b[0m\u001b[0m\n\u001b[1;32m     80\u001b[0m                     keep_alive=keep_alive),\n\u001b[0;32m---> 81\u001b[0;31m                 desired_capabilities=desired_capabilities)\n\u001b[0m\u001b[1;32m     82\u001b[0m         \u001b[0;32mexcept\u001b[0m \u001b[0mException\u001b[0m\u001b[0;34m:\u001b[0m\u001b[0;34m\u001b[0m\u001b[0;34m\u001b[0m\u001b[0m\n\u001b[1;32m     83\u001b[0m             \u001b[0mself\u001b[0m\u001b[0;34m.\u001b[0m\u001b[0mquit\u001b[0m\u001b[0;34m(\u001b[0m\u001b[0;34m)\u001b[0m\u001b[0;34m\u001b[0m\u001b[0;34m\u001b[0m\u001b[0m\n",
      "\u001b[0;32m~/opt/anaconda3/lib/python3.7/site-packages/selenium/webdriver/remote/webdriver.py\u001b[0m in \u001b[0;36m__init__\u001b[0;34m(self, command_executor, desired_capabilities, browser_profile, proxy, keep_alive, file_detector, options)\u001b[0m\n\u001b[1;32m    155\u001b[0m             warnings.warn(\"Please use FirefoxOptions to set browser profile\",\n\u001b[1;32m    156\u001b[0m                           DeprecationWarning, stacklevel=2)\n\u001b[0;32m--> 157\u001b[0;31m         \u001b[0mself\u001b[0m\u001b[0;34m.\u001b[0m\u001b[0mstart_session\u001b[0m\u001b[0;34m(\u001b[0m\u001b[0mcapabilities\u001b[0m\u001b[0;34m,\u001b[0m \u001b[0mbrowser_profile\u001b[0m\u001b[0;34m)\u001b[0m\u001b[0;34m\u001b[0m\u001b[0;34m\u001b[0m\u001b[0m\n\u001b[0m\u001b[1;32m    158\u001b[0m         \u001b[0mself\u001b[0m\u001b[0;34m.\u001b[0m\u001b[0m_switch_to\u001b[0m \u001b[0;34m=\u001b[0m \u001b[0mSwitchTo\u001b[0m\u001b[0;34m(\u001b[0m\u001b[0mself\u001b[0m\u001b[0;34m)\u001b[0m\u001b[0;34m\u001b[0m\u001b[0;34m\u001b[0m\u001b[0m\n\u001b[1;32m    159\u001b[0m         \u001b[0mself\u001b[0m\u001b[0;34m.\u001b[0m\u001b[0m_mobile\u001b[0m \u001b[0;34m=\u001b[0m \u001b[0mMobile\u001b[0m\u001b[0;34m(\u001b[0m\u001b[0mself\u001b[0m\u001b[0;34m)\u001b[0m\u001b[0;34m\u001b[0m\u001b[0;34m\u001b[0m\u001b[0m\n",
      "\u001b[0;32m~/opt/anaconda3/lib/python3.7/site-packages/selenium/webdriver/remote/webdriver.py\u001b[0m in \u001b[0;36mstart_session\u001b[0;34m(self, capabilities, browser_profile)\u001b[0m\n\u001b[1;32m    250\u001b[0m         parameters = {\"capabilities\": w3c_caps,\n\u001b[1;32m    251\u001b[0m                       \"desiredCapabilities\": capabilities}\n\u001b[0;32m--> 252\u001b[0;31m         \u001b[0mresponse\u001b[0m \u001b[0;34m=\u001b[0m \u001b[0mself\u001b[0m\u001b[0;34m.\u001b[0m\u001b[0mexecute\u001b[0m\u001b[0;34m(\u001b[0m\u001b[0mCommand\u001b[0m\u001b[0;34m.\u001b[0m\u001b[0mNEW_SESSION\u001b[0m\u001b[0;34m,\u001b[0m \u001b[0mparameters\u001b[0m\u001b[0;34m)\u001b[0m\u001b[0;34m\u001b[0m\u001b[0;34m\u001b[0m\u001b[0m\n\u001b[0m\u001b[1;32m    253\u001b[0m         \u001b[0;32mif\u001b[0m \u001b[0;34m'sessionId'\u001b[0m \u001b[0;32mnot\u001b[0m \u001b[0;32min\u001b[0m \u001b[0mresponse\u001b[0m\u001b[0;34m:\u001b[0m\u001b[0;34m\u001b[0m\u001b[0;34m\u001b[0m\u001b[0m\n\u001b[1;32m    254\u001b[0m             \u001b[0mresponse\u001b[0m \u001b[0;34m=\u001b[0m \u001b[0mresponse\u001b[0m\u001b[0;34m[\u001b[0m\u001b[0;34m'value'\u001b[0m\u001b[0;34m]\u001b[0m\u001b[0;34m\u001b[0m\u001b[0;34m\u001b[0m\u001b[0m\n",
      "\u001b[0;32m~/opt/anaconda3/lib/python3.7/site-packages/selenium/webdriver/remote/webdriver.py\u001b[0m in \u001b[0;36mexecute\u001b[0;34m(self, driver_command, params)\u001b[0m\n\u001b[1;32m    319\u001b[0m         \u001b[0mresponse\u001b[0m \u001b[0;34m=\u001b[0m \u001b[0mself\u001b[0m\u001b[0;34m.\u001b[0m\u001b[0mcommand_executor\u001b[0m\u001b[0;34m.\u001b[0m\u001b[0mexecute\u001b[0m\u001b[0;34m(\u001b[0m\u001b[0mdriver_command\u001b[0m\u001b[0;34m,\u001b[0m \u001b[0mparams\u001b[0m\u001b[0;34m)\u001b[0m\u001b[0;34m\u001b[0m\u001b[0;34m\u001b[0m\u001b[0m\n\u001b[1;32m    320\u001b[0m         \u001b[0;32mif\u001b[0m \u001b[0mresponse\u001b[0m\u001b[0;34m:\u001b[0m\u001b[0;34m\u001b[0m\u001b[0;34m\u001b[0m\u001b[0m\n\u001b[0;32m--> 321\u001b[0;31m             \u001b[0mself\u001b[0m\u001b[0;34m.\u001b[0m\u001b[0merror_handler\u001b[0m\u001b[0;34m.\u001b[0m\u001b[0mcheck_response\u001b[0m\u001b[0;34m(\u001b[0m\u001b[0mresponse\u001b[0m\u001b[0;34m)\u001b[0m\u001b[0;34m\u001b[0m\u001b[0;34m\u001b[0m\u001b[0m\n\u001b[0m\u001b[1;32m    322\u001b[0m             response['value'] = self._unwrap_value(\n\u001b[1;32m    323\u001b[0m                 response.get('value', None))\n",
      "\u001b[0;32m~/opt/anaconda3/lib/python3.7/site-packages/selenium/webdriver/remote/errorhandler.py\u001b[0m in \u001b[0;36mcheck_response\u001b[0;34m(self, response)\u001b[0m\n\u001b[1;32m    240\u001b[0m                 \u001b[0malert_text\u001b[0m \u001b[0;34m=\u001b[0m \u001b[0mvalue\u001b[0m\u001b[0;34m[\u001b[0m\u001b[0;34m'alert'\u001b[0m\u001b[0;34m]\u001b[0m\u001b[0;34m.\u001b[0m\u001b[0mget\u001b[0m\u001b[0;34m(\u001b[0m\u001b[0;34m'text'\u001b[0m\u001b[0;34m)\u001b[0m\u001b[0;34m\u001b[0m\u001b[0;34m\u001b[0m\u001b[0m\n\u001b[1;32m    241\u001b[0m             \u001b[0;32mraise\u001b[0m \u001b[0mexception_class\u001b[0m\u001b[0;34m(\u001b[0m\u001b[0mmessage\u001b[0m\u001b[0;34m,\u001b[0m \u001b[0mscreen\u001b[0m\u001b[0;34m,\u001b[0m \u001b[0mstacktrace\u001b[0m\u001b[0;34m,\u001b[0m \u001b[0malert_text\u001b[0m\u001b[0;34m)\u001b[0m\u001b[0;34m\u001b[0m\u001b[0;34m\u001b[0m\u001b[0m\n\u001b[0;32m--> 242\u001b[0;31m         \u001b[0;32mraise\u001b[0m \u001b[0mexception_class\u001b[0m\u001b[0;34m(\u001b[0m\u001b[0mmessage\u001b[0m\u001b[0;34m,\u001b[0m \u001b[0mscreen\u001b[0m\u001b[0;34m,\u001b[0m \u001b[0mstacktrace\u001b[0m\u001b[0;34m)\u001b[0m\u001b[0;34m\u001b[0m\u001b[0;34m\u001b[0m\u001b[0m\n\u001b[0m\u001b[1;32m    243\u001b[0m \u001b[0;34m\u001b[0m\u001b[0m\n\u001b[1;32m    244\u001b[0m     \u001b[0;32mdef\u001b[0m \u001b[0m_value_or_default\u001b[0m\u001b[0;34m(\u001b[0m\u001b[0mself\u001b[0m\u001b[0;34m,\u001b[0m \u001b[0mobj\u001b[0m\u001b[0;34m,\u001b[0m \u001b[0mkey\u001b[0m\u001b[0;34m,\u001b[0m \u001b[0mdefault\u001b[0m\u001b[0;34m)\u001b[0m\u001b[0;34m:\u001b[0m\u001b[0;34m\u001b[0m\u001b[0;34m\u001b[0m\u001b[0m\n",
      "\u001b[0;31mSessionNotCreatedException\u001b[0m: Message: session not created: This version of ChromeDriver only supports Chrome version 83\n"
     ]
    }
   ],
   "source": [
    "driver = start()"
   ]
  },
  {
   "cell_type": "code",
   "execution_count": null,
   "metadata": {},
   "outputs": [],
   "source": [
    "result = pd.DataFrame()\n",
    "#空実行(これしないと最初の一回なぜか失敗する)\n",
    "response = get_stockinfo(driver,9531)\n",
    "for i in range(len(JQG)):\n",
    "    code = JQG[\"銘柄コード\"].iloc[i].astype(str)\n",
    "    response = get_stockinfo(driver,code)\n",
    "    if str(response).find(\"対象銘柄はありません。または、表示できません。\") < 0 :\n",
    "        stock_info = get_currentprice(response,code)\n",
    "        result = result.append(stock_info,ignore_index = True)"
   ]
  },
  {
   "cell_type": "code",
   "execution_count": null,
   "metadata": {},
   "outputs": [],
   "source": [
    "result.to_csv(\"stock_result.csv\",index=False)"
   ]
  },
  {
   "cell_type": "code",
   "execution_count": null,
   "metadata": {},
   "outputs": [],
   "source": [
    "driver.close()"
   ]
  },
  {
   "cell_type": "code",
   "execution_count": null,
   "metadata": {},
   "outputs": [],
   "source": [
    "#SQL insert\n",
    "#Postgresqlへのコネクション\n",
    "import psycopg2 as ps\n",
    "import configparser\n",
    "\n",
    "config_ini = configparser.ConfigParser()\n",
    "config_ini.read('../../public/psql_local_pass.ini', encoding='utf-8')\n",
    "\n",
    "host = config_ini[\"DEFAULT\"][\"host\"]\n",
    "port = config_ini[\"DEFAULT\"][\"port\"]\n",
    "dbname = config_ini[\"DEFAULT\"][\"dbname\"]\n",
    "user = config_ini[\"DEFAULT\"][\"user\"]\n",
    "password = config_ini[\"DEFAULT\"][\"password\"]\n",
    "\n",
    "con = ps.connect(\"host=\"+host+\" port=\"+port+\" dbname=\"+dbname+\" user=\"+user+\" password=\"+password)\n",
    "con.set_client_encoding('utf-8')\n",
    "#con.cursor_factory=ps.extras.DictCursor\n",
    "cur = con.cursor()"
   ]
  },
  {
   "cell_type": "code",
   "execution_count": null,
   "metadata": {},
   "outputs": [],
   "source": [
    "import csv\n",
    "colms = \"stock_code,current_price,open_price,yesterday_price,high_price,volume,low_price,trading_volume,over,under,sellside_price,buyside_price,sellside_atm,buyside_atm,get_datetime\"\n",
    "#vals = \"1400,161,163,164,163,6400,159,1033,49900,17400,162,161,-57900,46100,'2015'\"\n",
    "\n",
    "with open('stock_result.csv', newline='') as csvfile:\n",
    "    read = csv.reader(csvfile)\n",
    "    header = next(read)\n",
    "    \n",
    "    for row in read:\n",
    "        vals = \"\"\n",
    "        count = 0\n",
    "        length = len(row)\n",
    "        for cell in row:\n",
    "            if count == (length-1):\n",
    "                vals = vals + \"'\"+ str(cell) +\"'\"\n",
    "                break\n",
    "            else:\n",
    "                count = count +1\n",
    "                vals = vals + str(cell) + \",\"\n",
    "        sql = \"INSERT INTO stock_detail (\"  + colms +  \") VALUES(\" + vals + \")\"\n",
    "        cur.execute(sql)\n",
    "con.commit()"
   ]
  },
  {
   "cell_type": "code",
   "execution_count": null,
   "metadata": {},
   "outputs": [],
   "source": [
    "cur.close()\n",
    "con.close()"
   ]
  }
 ],
 "metadata": {
  "kernelspec": {
   "display_name": "Python 3",
   "language": "python",
   "name": "python3"
  },
  "language_info": {
   "codemirror_mode": {
    "name": "ipython",
    "version": 3
   },
   "file_extension": ".py",
   "mimetype": "text/x-python",
   "name": "python",
   "nbconvert_exporter": "python",
   "pygments_lexer": "ipython3",
   "version": "3.7.6"
  }
 },
 "nbformat": 4,
 "nbformat_minor": 4
}
