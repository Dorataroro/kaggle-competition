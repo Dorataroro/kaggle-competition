{
 "cells": [
  {
   "cell_type": "code",
   "execution_count": 1,
   "metadata": {},
   "outputs": [],
   "source": [
    "from selenium import webdriver\n",
    "from selenium.webdriver.chrome.options import Options\n",
    "from selenium.webdriver.common.by import By\n",
    "from selenium.webdriver.support.select import Select\n",
    "from selenium.webdriver.common.keys import Keys\n",
    "from selenium.webdriver.common.alert import Alert\n",
    "from selenium.webdriver.support.ui import WebDriverWait\n",
    "from selenium.webdriver.support import expected_conditions as EC\n",
    "from selenium.common.exceptions import TimeoutException\n",
    "import os\n",
    "import time\n",
    "import datetime\n",
    "import pandas as pd\n",
    "from selenium import webdriver\n",
    "from selenium.webdriver.chrome.options import Options\n",
    "from bs4 import BeautifulSoup\n",
    "\n",
    "#\n",
    "# Seleniumをあらゆる環境で起動させるオプション\n",
    "#\n",
    "options = Options()\n",
    "options.add_argument('--disable-gpu');\n",
    "options.add_argument('--disable-extensions');\n",
    "options.add_argument('--proxy-server=\"direct://\"');\n",
    "options.add_argument('--proxy-bypass-list=*');\n",
    "options.add_argument('--start-maximized');"
   ]
  },
  {
   "cell_type": "code",
   "execution_count": 2,
   "metadata": {},
   "outputs": [],
   "source": [
    "def start(ACCOUNT, PASSWORD, name,DRIVER_PATH):\n",
    "    option = Options()\n",
    "    option.add_argument('--headless') \n",
    "    #driverの設定\n",
    "    driver = webdriver.Chrome(executable_path=DRIVER_PATH, chrome_options=options)\n",
    "    #サイトログイン\n",
    "    driver = connect_sbi(ACCOUNT, PASSWORD, name,driver)\n",
    "    return driver"
   ]
  },
  {
   "cell_type": "code",
   "execution_count": 3,
   "metadata": {},
   "outputs": [],
   "source": [
    "#ログイン関数\n",
    "def connect_sbi(ACCOUNT, PASSWORD, name,driver):\n",
    "    # SBI証券のトップ画面を開く\n",
    "    driver.get('https://www.sbisec.co.jp/ETGate')\n",
    "\n",
    "    # ユーザーIDとパスワード\n",
    "    input_user_id = driver.find_element_by_name('user_id')\n",
    "    input_user_id.send_keys(ACCOUNT)\n",
    "    input_user_password = driver.find_element_by_name('user_password')\n",
    "    input_user_password.send_keys(PASSWORD)\n",
    "    \n",
    "    # ログインボタンをクリック\n",
    "    driver.find_element_by_name('ACT_login').click()\n",
    "    time.sleep(5)\n",
    "\n",
    "    return driver"
   ]
  },
  {
   "cell_type": "code",
   "execution_count": null,
   "metadata": {},
   "outputs": [],
   "source": [
    "#国内株式全体情報取得関数\n",
    "def get_stockinfo(driver,stock_code):\n",
    "    # 検索ボックスに対象のコードを入力\n",
    "\n",
    "    driver.find_element_by_name('i_stock_sec').send_keys(stock_code)\n",
    "    #検索ボタンを押下\n",
    "    driver.execute_script(\"avaScript:return stockcheck();\")\n",
    "    time.sleep(2)\n",
    "    #htmlを取得\n",
    "    html = driver.page_source.encode('utf-8')\n",
    "    soup = BeautifulSoup(html, \"html.parser\")\n",
    "    return soup"
   ]
  },
  {
   "cell_type": "code",
   "execution_count": 4,
   "metadata": {},
   "outputs": [],
   "source": [
    "def get_data(ACCOUNT, PASSWORD, name,DRIVER_PATH,target):\n",
    "    driver = start(ACCOUNT, PASSWORD, name,DRIVER_PATH)\n",
    "    result = pd.DataFrame()\n",
    "    #空実行(これしないと最初の一回なぜか失敗する)\n",
    "    response = get_stockinfo(driver,9531)"
   ]
  }
 ],
 "metadata": {
  "kernelspec": {
   "display_name": "Python 3",
   "language": "python",
   "name": "python3"
  },
  "language_info": {
   "codemirror_mode": {
    "name": "ipython",
    "version": 3
   },
   "file_extension": ".py",
   "mimetype": "text/x-python",
   "name": "python",
   "nbconvert_exporter": "python",
   "pygments_lexer": "ipython3",
   "version": "3.7.6"
  }
 },
 "nbformat": 4,
 "nbformat_minor": 4
}
