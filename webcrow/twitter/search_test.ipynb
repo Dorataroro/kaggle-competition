{
 "cells": [
  {
   "cell_type": "code",
   "execution_count": 1,
   "metadata": {},
   "outputs": [],
   "source": [
    "import requests\n",
    "from requests_oauthlib import OAuth1Session\n",
    "import configparser"
   ]
  },
  {
   "cell_type": "code",
   "execution_count": 2,
   "metadata": {},
   "outputs": [],
   "source": [
    "#各種Keyの読み込み\n",
    "config_ini = configparser.ConfigParser()\n",
    "config_ini.read('config.ini', encoding='utf-8')\n",
    "\n",
    "consumer_key = config_ini[\"DEFAULT\"][\"consumer_key\"]\n",
    "consumer_key_secret = config_ini[\"DEFAULT\"][\"consumer_key_secret\"]\n",
    "access_token = config_ini[\"DEFAULT\"][\"access_token\"]\n",
    "access_token_secret = config_ini[\"DEFAULT\"][\"access_token_secret\"]\n",
    "\n",
    "twitter = OAuth1Session(consumer_key, consumer_key_secret, access_token, access_token_secret)"
   ]
  },
  {
   "cell_type": "code",
   "execution_count": 3,
   "metadata": {},
   "outputs": [],
   "source": [
    "url = 'https://api.twitter.com/1.1/search/tweets.json'\n",
    "\n",
    "# Enedpointへ渡すパラメーター\n",
    "keyword = '仮想通貨'\n",
    "count = 10\n",
    "\n",
    "params ={\n",
    "         'count' : count,      # 取得するtweet数\n",
    "         'q'     : keyword  # 検索キーワード\n",
    "         }\n",
    "\n",
    "res = twitter.get(url, params = params)"
   ]
  },
  {
   "cell_type": "code",
   "execution_count": 4,
   "metadata": {},
   "outputs": [
    {
     "name": "stdout",
     "output_type": "stream",
     "text": [
      "【仮想通貨】アルトシーズン到来！？2000％以上の上昇に期待！？リップル　イーサリアム　モナコイン【投資家プロジェクト億り人さとし】\n",
      "https://t.co/o0ANaZJr1H\n",
      "アフリカの仮想通貨取引高、2017年ピーク時を上回る|半減期を意識か #SmartNews  https://t.co/kBDx2EAar2\n",
      "@NoR_photograph 仮想通貨は副業じゃねーww\n",
      "資金も在庫もかからない副業を考えるのだw\n",
      "仮想通貨Sprouts公式コミュニティ クリエイター向けチャンネル\n",
      "#イラスト-illustration\n",
      "#ミュージック-music\n",
      "#プログラミング-programming\n",
      "#グッズ-goods\n",
      "#クッキング-cooking… https://t.co/OmfNhYtsbN\n",
      "第三章読了。仮想通貨に関しては前章までで悲観的な見方をしていたが、ブロックチェーンには一転して可能性を述べている。金融の本流を変えるイノベーションになるのではと。クローズド型ブロックチェーンが金融分野での実証実験に用いられてる。別途コンセンサスアルゴリズムについて調べておきたい。\n",
      "上場が決まってます！\n",
      "優良投資案件との事ですが\n",
      "色んな事書かれてまーす！\n",
      "でも\n",
      "こんなの出るの待ってたよー！\n",
      "【PDRY】世界から注目受けるポイント系仮想通貨【注目】 https://t.co/se5inWJr7O\n",
      "#投資 #暗号通貨 #IEO #副業\n",
      "LINE\n",
      "資産\n",
      "金欠\n",
      "仕事\n",
      "学生\n",
      "低金利\n",
      "LINEpay\n",
      "四暗刻\n",
      "仮想通貨\n",
      "借りたい\n",
      "アマギフ\n",
      "国士無双\n",
      "お金欲しい\n",
      "保証金なし\n",
      "初期費用あり\n",
      "副業始めたい\n",
      "副業探してます\n",
      "副業ジャニオタ\n",
      "東山奈央\n",
      "\n",
      "☮️☮️☮️☮️☮️\n",
      "\n",
      "収入… https://t.co/YcjEpbFaQC\n",
      "RT @hat_fx: 為替の専業は頭おかしい人しかいないと為替の専業が言っていたので、仮想通貨メインの専業で良かった。\n",
      "@pingu342 @spur1023 @fujimaki_takesi マネーはそもそも貸借証書にすぎません。原価30円の。国債も同じ。そもそもが単なる紙。でも、別に紙でなくてもよいのです。貸借関係の情報だから。だから藤巻先生も究極的マネーとして仮想通貨をお勧めなのでしょう。\n",
      "RT @LabsCannabis: CDLなら\n",
      "ビットコインでのお支払いも受付しております\n",
      "\n",
      "ビットコイン、モネロでのお支払いで\n",
      "1粒につき500円値引き+おまけ2粒\n",
      "\n",
      "仮想通貨お支払いだと安くてお得ですよ😁✨💰\n"
     ]
    }
   ],
   "source": [
    "data = res.json()\n",
    "for i in range(count):\n",
    "    print(data[\"statuses\"][i][\"text\"])"
   ]
  },
  {
   "cell_type": "code",
   "execution_count": null,
   "metadata": {},
   "outputs": [],
   "source": []
  }
 ],
 "metadata": {
  "kernelspec": {
   "display_name": "Python 3",
   "language": "python",
   "name": "python3"
  },
  "language_info": {
   "codemirror_mode": {
    "name": "ipython",
    "version": 3
   },
   "file_extension": ".py",
   "mimetype": "text/x-python",
   "name": "python",
   "nbconvert_exporter": "python",
   "pygments_lexer": "ipython3",
   "version": "3.7.6"
  }
 },
 "nbformat": 4,
 "nbformat_minor": 4
}
