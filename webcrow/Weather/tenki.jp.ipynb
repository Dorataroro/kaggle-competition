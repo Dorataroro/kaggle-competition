{
 "cells": [
  {
   "cell_type": "code",
   "execution_count": 109,
   "metadata": {},
   "outputs": [],
   "source": [
    "import requests\n",
    "from bs4 import BeautifulSoup\n",
    "import pandas as pd"
   ]
  },
  {
   "cell_type": "code",
   "execution_count": 110,
   "metadata": {},
   "outputs": [],
   "source": [
    "#tenki.jpの目的の地域のページのURL(東京都品川区)\n",
    "url = 'https://tenki.jp/forecast/3/16/4410/13109/1hour.html'\n",
    "\n",
    "#HTTPリクエスト\n",
    "r = requests.get(url)\n",
    "\n",
    "bsObj = BeautifulSoup(r.content, \"html.parser\")\n",
    "pre_data_today = bsObj.find('table',id='forecast-point-1h-today')\n",
    "pre_data_tomorrow = bsObj.find('table',id='forecast-point-1h-tomorrow')\n",
    "pre_data_dayaftertomorrow = bsObj.find('table',id='forecast-point-1h-dayaftertomorrow')"
   ]
  },
  {
   "cell_type": "code",
   "execution_count": 141,
   "metadata": {},
   "outputs": [],
   "source": [
    "def get_weatherData_today(data):\n",
    "    hour = get_series(data,'hour')\n",
    "    weather = get_series_weather(data,'weather')\n",
    "    temperature = get_series(data,'temperature')\n",
    "    humidity = get_series(data,'humidity')\n",
    "    del humidity[0]\n",
    "    weatherData = pd.DataFrame({\n",
    "        'hour':hour,\n",
    "        'weather':weather,\n",
    "        'temperature':temperature,\n",
    "        'humidity':humidity\n",
    "    })\n",
    "    return weatherData"
   ]
  },
  {
   "cell_type": "code",
   "execution_count": 142,
   "metadata": {},
   "outputs": [],
   "source": [
    "def get_weatherData(data):\n",
    "    hour = get_series(data,'hour')\n",
    "    weather = get_series_weather(data,'weather')\n",
    "    temperature = get_series(data,'temperature')\n",
    "    humidity = get_series_humidity(data,'humidity')\n",
    "    weatherData = pd.DataFrame({\n",
    "        'hour':hour,\n",
    "        'weather':weather,\n",
    "        'temperature':temperature,\n",
    "        'humidity':humidity\n",
    "    })\n",
    "    return weatherData"
   ]
  },
  {
   "cell_type": "code",
   "execution_count": 143,
   "metadata": {},
   "outputs": [],
   "source": [
    "def get_series(row_data,str_type):\n",
    "    step1 = row_data.find(class_ = str_type)\n",
    "    step2 = step1.find_all('span')\n",
    "    step3 = [step2[x].string for x in range(len(step2))]\n",
    "    return step3"
   ]
  },
  {
   "cell_type": "code",
   "execution_count": 150,
   "metadata": {},
   "outputs": [],
   "source": [
    "def get_series_humidity(row_data,str_type):\n",
    "    step1 = row_data.find(class_ = str_type)\n",
    "    step2 = step1.find_all('td')\n",
    "    step3 = [step2[x].string for x in range(len(step2))]\n",
    "    return step3"
   ]
  },
  {
   "cell_type": "code",
   "execution_count": 151,
   "metadata": {},
   "outputs": [],
   "source": [
    "def get_series_weather(row_data,str_type):\n",
    "    step1 = row_data.find(class_ = str_type)\n",
    "    step2 = step1.find_all('p')\n",
    "    step3 = [step2[x].string for x in range(len(step2))]\n",
    "    return step3"
   ]
  },
  {
   "cell_type": "code",
   "execution_count": 157,
   "metadata": {},
   "outputs": [],
   "source": [
    "#取りたい値\n",
    "#時間\n",
    "#天気\n",
    "#気温\n",
    "#湿度\n",
    "\n",
    "#以下で気象データ取得\n",
    "data_today = get_weatherData_today(pre_data_today)\n",
    "data_tomorrow = get_weatherData(pre_data_tomorrow)\n",
    "data_dayaftertomorrow = get_weatherData(pre_data_dayaftertomorrow)\n",
    "result = pd.concat([data_today,data_tomorrow,data_dayaftertomorrow])"
   ]
  },
  {
   "cell_type": "code",
   "execution_count": 159,
   "metadata": {},
   "outputs": [],
   "source": [
    "result.to_csv(\"3daysWeather.csv\")"
   ]
  },
  {
   "cell_type": "code",
   "execution_count": null,
   "metadata": {},
   "outputs": [],
   "source": []
  }
 ],
 "metadata": {
  "kernelspec": {
   "display_name": "Python 3",
   "language": "python",
   "name": "python3"
  },
  "language_info": {
   "codemirror_mode": {
    "name": "ipython",
    "version": 3
   },
   "file_extension": ".py",
   "mimetype": "text/x-python",
   "name": "python",
   "nbconvert_exporter": "python",
   "pygments_lexer": "ipython3",
   "version": "3.7.6"
  }
 },
 "nbformat": 4,
 "nbformat_minor": 4
}
